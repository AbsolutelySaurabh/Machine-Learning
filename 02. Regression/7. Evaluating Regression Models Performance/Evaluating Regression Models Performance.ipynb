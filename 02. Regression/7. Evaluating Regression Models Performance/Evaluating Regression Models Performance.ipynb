{
 "cells": [
  {
   "cell_type": "markdown",
   "metadata": {},
   "source": [
    "## Evaluating Regression Models Performance"
   ]
  },
  {
   "cell_type": "markdown",
   "metadata": {},
   "source": [
    "**TODO:**\n",
    "<br>\n",
    "1. R - square :\n",
    "    * The more is closer to 1, the better it is.\n",
    "    * The lesser number of variables, the better the R-square.\n",
    "<br>\n",
    "2. Adjusted R-square\n",
    "    * It gives a much clear picture.\n",
    "    * Very similar, to R2, but has a penalization factor. It helps in reducing the R2 in case of dealing with more number of variables.\n",
    "    * It can be used to judge a model, if it's better or not. More closer to 1 , more better.\n",
    "    * If it drops after excluding/ including a variable, means more farther from 1, means model performace has been decreased.\n",
    "<br>\n",
    "3. Evaluating model's performance based on previous results, summary()\n",
    "<br>\n",
    "4. Interpreting Linear Regression Coefficients "
   ]
  }
 ],
 "metadata": {
  "kernelspec": {
   "display_name": "Python 3",
   "language": "python",
   "name": "python3"
  },
  "language_info": {
   "codemirror_mode": {
    "name": "ipython",
    "version": 3
   },
   "file_extension": ".py",
   "mimetype": "text/x-python",
   "name": "python",
   "nbconvert_exporter": "python",
   "pygments_lexer": "ipython3",
   "version": "3.7.1"
  }
 },
 "nbformat": 4,
 "nbformat_minor": 2
}
