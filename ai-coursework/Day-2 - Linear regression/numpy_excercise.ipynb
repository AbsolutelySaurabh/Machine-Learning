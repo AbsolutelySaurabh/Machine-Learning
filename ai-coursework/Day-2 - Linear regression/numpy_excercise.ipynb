{
  "nbformat": 4,
  "nbformat_minor": 0,
  "metadata": {
    "colab": {
      "name": "numpy_excercise.ipynb",
      "provenance": [],
      "authorship_tag": "ABX9TyOStCAnyCPM2xlsl7CHJbxD",
      "include_colab_link": true
    },
    "kernelspec": {
      "name": "python3",
      "display_name": "Python 3"
    }
  },
  "cells": [
    {
      "cell_type": "markdown",
      "metadata": {
        "id": "view-in-github",
        "colab_type": "text"
      },
      "source": [
        "<a href=\"https://colab.research.google.com/github/AbsolutelySaurabh/Machine-Learning/blob/master/ai-coursework/Day-2%20-%20Linear%20regression/numpy_excercise.ipynb\" target=\"_parent\"><img src=\"https://colab.research.google.com/assets/colab-badge.svg\" alt=\"Open In Colab\"/></a>"
      ]
    },
    {
      "cell_type": "code",
      "metadata": {
        "id": "hrIKtmBlMvll",
        "colab_type": "code",
        "colab": {}
      },
      "source": [
        "import numpy as np"
      ],
      "execution_count": 0,
      "outputs": []
    },
    {
      "cell_type": "code",
      "metadata": {
        "id": "gOzhVyGlM0mF",
        "colab_type": "code",
        "colab": {
          "base_uri": "https://localhost:8080/",
          "height": 102
        },
        "outputId": "4071a821-5707-45cf-c699-2ddae0f96d90"
      },
      "source": [
        "# Queston: Print odd numbers from the given np array\n",
        "\n",
        "arr = np.arange(25).reshape((5, 5))\n",
        "arr"
      ],
      "execution_count": 19,
      "outputs": [
        {
          "output_type": "execute_result",
          "data": {
            "text/plain": [
              "array([[ 0,  1,  2,  3,  4],\n",
              "       [ 5,  6,  7,  8,  9],\n",
              "       [10, 11, 12, 13, 14],\n",
              "       [15, 16, 17, 18, 19],\n",
              "       [20, 21, 22, 23, 24]])"
            ]
          },
          "metadata": {
            "tags": []
          },
          "execution_count": 19
        }
      ]
    },
    {
      "cell_type": "code",
      "metadata": {
        "id": "PpzFmx16M_Qc",
        "colab_type": "code",
        "colab": {
          "base_uri": "https://localhost:8080/",
          "height": 221
        },
        "outputId": "85c2bb62-e312-4370-f534-326901de6b12"
      },
      "source": [
        "for i in arr:\n",
        "  for j in i:\n",
        "    if j%2 !=0:\n",
        "      print(f\"value: {j}\")"
      ],
      "execution_count": 24,
      "outputs": [
        {
          "output_type": "stream",
          "text": [
            "value: 1\n",
            "value: 3\n",
            "value: 5\n",
            "value: 7\n",
            "value: 9\n",
            "value: 11\n",
            "value: 13\n",
            "value: 15\n",
            "value: 17\n",
            "value: 19\n",
            "value: 21\n",
            "value: 23\n"
          ],
          "name": "stdout"
        }
      ]
    },
    {
      "cell_type": "code",
      "metadata": {
        "id": "PzY813H2Nd0u",
        "colab_type": "code",
        "colab": {}
      },
      "source": [
        ""
      ],
      "execution_count": 0,
      "outputs": []
    }
  ]
}